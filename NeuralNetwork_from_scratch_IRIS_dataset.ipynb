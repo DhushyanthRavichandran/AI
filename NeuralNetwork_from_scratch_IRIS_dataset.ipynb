{
  "nbformat": 4,
  "nbformat_minor": 0,
  "metadata": {
    "colab": {
      "provenance": [],
      "authorship_tag": "ABX9TyPz5HZtWjs11IoqkZOvx3bs",
      "include_colab_link": true
    },
    "kernelspec": {
      "name": "python3",
      "display_name": "Python 3"
    },
    "language_info": {
      "name": "python"
    }
  },
  "cells": [
    {
      "cell_type": "markdown",
      "metadata": {
        "id": "view-in-github",
        "colab_type": "text"
      },
      "source": [
        "<a href=\"https://colab.research.google.com/github/DhushyanthRavichandran/AI/blob/main/NeuralNetwork_from_scratch_IRIS_dataset.ipynb\" target=\"_parent\"><img src=\"https://colab.research.google.com/assets/colab-badge.svg\" alt=\"Open In Colab\"/></a>"
      ]
    },
    {
      "cell_type": "code",
      "execution_count": 5,
      "metadata": {
        "id": "BM6mj2Q_anll"
      },
      "outputs": [],
      "source": []
    },
    {
      "cell_type": "code",
      "source": [],
      "metadata": {
        "colab": {
          "base_uri": "https://localhost:8080/"
        },
        "id": "e4Ja0KbQdfmq",
        "outputId": "68cdbb0d-e6d6-4a5a-82c8-e2e3010d7e94"
      },
      "execution_count": 7,
      "outputs": [
        {
          "output_type": "stream",
          "name": "stdout",
          "text": [
            "TensorFlow version: 2.15.0\n"
          ]
        }
      ]
    },
    {
      "cell_type": "code",
      "source": [
        "import numpy as np\n",
        "\n",
        "# Sigmoid activation function and its derivative\n",
        "def sigmoid(x):\n",
        "    return 1 / (1 + np.exp(-x))\n",
        "\n",
        "def sigmoid_derivative(x):\n",
        "    return x * (1 - x)\n",
        "\n",
        "# Define the neural network class\n",
        "class NeuralNetwork:\n",
        "    def __init__(self, input_size, hidden_size, output_size):\n",
        "        # Initialize weights and biases\n",
        "        self.weights_input_hidden = np.random.rand(input_size, hidden_size)\n",
        "        self.bias_hidden = np.zeros((1, hidden_size))\n",
        "        self.weights_hidden_output = np.random.rand(hidden_size, output_size)\n",
        "        self.bias_output = np.zeros((1, output_size))\n",
        "\n",
        "    def forward(self, inputs):\n",
        "        # Forward pass\n",
        "        self.hidden_input = np.dot(inputs, self.weights_input_hidden) + self.bias_hidden\n",
        "        self.hidden_output = sigmoid(self.hidden_input)\n",
        "        self.output = sigmoid(np.dot(self.hidden_output, self.weights_hidden_output) + self.bias_output)\n",
        "        return self.output\n",
        "\n",
        "    def backward(self, inputs, targets, learning_rate):\n",
        "        # Backward pass\n",
        "        error = targets - self.output\n",
        "        delta_output = error * sigmoid_derivative(self.output)\n",
        "\n",
        "        error_hidden = delta_output.dot(self.weights_hidden_output.T)\n",
        "        delta_hidden = error_hidden * sigmoid_derivative(self.hidden_output)\n",
        "\n",
        "        # Update weights and biases\n",
        "        self.weights_hidden_output += self.hidden_output.T.dot(delta_output) * learning_rate\n",
        "        self.bias_output += np.sum(delta_output, axis=0, keepdims=True) * learning_rate\n",
        "\n",
        "        self.weights_input_hidden += inputs.T.dot(delta_hidden) * learning_rate\n",
        "        self.bias_hidden += np.sum(delta_hidden, axis=0, keepdims=True) * learning_rate\n",
        "\n",
        "    def train(self, inputs, targets, epochs, learning_rate):\n",
        "        # Train the neural network\n",
        "        for epoch in range(epochs):\n",
        "            output = self.forward(inputs)\n",
        "            self.backward(inputs, targets, learning_rate)\n",
        "\n",
        "            # Print loss for every 100 epochs\n",
        "            if epoch % 100 == 0:\n",
        "                loss = np.mean(np.square(targets - output))\n",
        "                print(f\"Epoch {epoch}, Loss: {loss}\")\n",
        "\n",
        "# Example usage with the Iris dataset\n",
        "from sklearn.datasets import load_iris\n",
        "from sklearn.model_selection import train_test_split\n",
        "from sklearn.preprocessing import StandardScaler\n",
        "from sklearn.preprocessing import OneHotEncoder\n",
        "\n",
        "# Load the Iris dataset\n",
        "iris = load_iris()\n",
        "X, y = iris.data, iris.target.reshape(-1, 1)\n",
        "\n",
        "# One-hot encode the target variable\n",
        "encoder = OneHotEncoder(sparse=False)\n",
        "y_onehot = encoder.fit_transform(y)\n",
        "\n",
        "# Split the data into training and testing sets\n",
        "X_train, X_test, y_train, y_test = train_test_split(X, y_onehot, test_size=0.2, random_state=42)\n",
        "\n",
        "# Standardize the features (optional but often recommended)\n",
        "scaler = StandardScaler()\n",
        "X_train = scaler.fit_transform(X_train)\n",
        "X_test = scaler.transform(X_test)\n",
        "\n",
        "# Create and train the neural network\n",
        "input_size = X_train.shape[1]\n",
        "hidden_size = 4\n",
        "output_size = y_onehot.shape[1]\n",
        "\n",
        "nn = NeuralNetwork(input_size, hidden_size, output_size)\n",
        "nn.train(X_train, y_train, epochs=1000, learning_rate=0.01)\n",
        "\n",
        "# Evaluate the trained model on the test set\n",
        "predictions = nn.forward(X_test)\n",
        "accuracy = np.mean(np.argmax(predictions, axis=1) == np.argmax(y_test, axis=1))\n",
        "print(f\"Test Accuracy: {accuracy * 100}%\")"
      ],
      "metadata": {
        "colab": {
          "base_uri": "https://localhost:8080/"
        },
        "id": "YJ_j93preE4W",
        "outputId": "0726cd11-43be-4214-94ce-4ea4427fa2ab"
      },
      "execution_count": 6,
      "outputs": [
        {
          "output_type": "stream",
          "name": "stdout",
          "text": [
            "Epoch 0, Loss: 0.3695871313848568\n",
            "Epoch 100, Loss: 0.11115040316900869\n",
            "Epoch 200, Loss: 0.08399787382633214\n",
            "Epoch 300, Loss: 0.05774804731040157\n",
            "Epoch 400, Loss: 0.03783316179837243\n",
            "Epoch 500, Loss: 0.02708848620826726\n",
            "Epoch 600, Loss: 0.02168968284936274\n",
            "Epoch 700, Loss: 0.018713702593731986\n",
            "Epoch 800, Loss: 0.016884259989923118\n",
            "Epoch 900, Loss: 0.015658397627959106\n",
            "Test Accuracy: 100.0%\n"
          ]
        },
        {
          "output_type": "stream",
          "name": "stderr",
          "text": [
            "/usr/local/lib/python3.10/dist-packages/sklearn/preprocessing/_encoders.py:868: FutureWarning: `sparse` was renamed to `sparse_output` in version 1.2 and will be removed in 1.4. `sparse_output` is ignored unless you leave `sparse` to its default value.\n",
            "  warnings.warn(\n"
          ]
        }
      ]
    }
  ]
}