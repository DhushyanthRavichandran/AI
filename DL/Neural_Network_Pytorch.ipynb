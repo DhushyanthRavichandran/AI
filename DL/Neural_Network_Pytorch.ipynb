{
  "nbformat": 4,
  "nbformat_minor": 0,
  "metadata": {
    "colab": {
      "provenance": [],
      "include_colab_link": true
    },
    "kernelspec": {
      "name": "python3",
      "display_name": "Python 3"
    },
    "language_info": {
      "name": "python"
    },
    "accelerator": "TPU"
  },
  "cells": [
    {
      "cell_type": "markdown",
      "metadata": {
        "id": "view-in-github",
        "colab_type": "text"
      },
      "source": [
        "<a href=\"https://colab.research.google.com/github/DhushyanthRavichandran/AI/blob/main/DL/Neural_Network_Pytorch.ipynb\" target=\"_parent\"><img src=\"https://colab.research.google.com/assets/colab-badge.svg\" alt=\"Open In Colab\"/></a>"
      ]
    },
    {
      "cell_type": "markdown",
      "source": [
        "# *A simple neural network in PyTorch*"
      ],
      "metadata": {
        "id": "OIqYTw0IDCXR"
      }
    },
    {
      "cell_type": "markdown",
      "source": [
        "### Install Pytorch -https://pytorch.org/"
      ],
      "metadata": {
        "id": "pAFOzmiVDOYR"
      }
    },
    {
      "cell_type": "code",
      "source": [
        "#Import Pytorch\n",
        "import torch\n",
        "import torchvision.datasets as datasets\n",
        "import torchvision.transforms as transforms\n",
        "import torch.nn as nn\n",
        "import torch.optim as optim"
      ],
      "metadata": {
        "id": "t8hOi-DxDNbq"
      },
      "execution_count": null,
      "outputs": []
    },
    {
      "cell_type": "markdown",
      "source": [
        "### Load and prepare the training data"
      ],
      "metadata": {
        "id": "-yr_BWuuMkgC"
      }
    },
    {
      "cell_type": "code",
      "source": [
        "transform=transforms.Compose([transforms.ToTensor(),\n",
        "                              transforms.Normalize((0.1307,),(0.3081,))])\n",
        "train_dataset=datasets.SVHN('data',split='train',download=True,transform=transform)\n",
        "train_loader=torch.utils.data.DataLoader(train_dataset,batch_size=64,shuffle=True)\n"
      ],
      "metadata": {
        "id": "4UHREwhWSEwx",
        "colab": {
          "base_uri": "https://localhost:8080/"
        },
        "outputId": "2a7bed6e-f16e-4829-8fb9-7b088fa5ba1e"
      },
      "execution_count": null,
      "outputs": [
        {
          "output_type": "stream",
          "name": "stdout",
          "text": [
            "Using downloaded and verified file: data/train_32x32.mat\n"
          ]
        }
      ]
    },
    {
      "cell_type": "markdown",
      "source": [
        "### Define the model"
      ],
      "metadata": {
        "id": "kxNShGWFWwnH"
      }
    },
    {
      "cell_type": "code",
      "source": [
        "class Neural(nn.Module):\n",
        "  def __init__(self):\n",
        "    super(Neural,self).__init__()\n",
        "    self.fc1=nn.Linear(3*32*32,256)\n",
        "    self.fc2=nn.Linear(256,128)\n",
        "    self.fc3=nn.Linear(128,64)\n",
        "    self.fc4=nn.Linear(64,32)\n",
        "    self.fc5=nn.Linear(32,16)\n",
        "    self.fc6=nn.Linear(16,10)\n",
        "\n",
        "  def forward(self,x):\n",
        "    x=x.view(-1,3*32*32)\n",
        "    x=torch.relu(self.fc1(x))\n",
        "    x=torch.relu(self.fc2(x))\n",
        "    x=torch.relu(self.fc3(x))\n",
        "    x=torch.relu(self.fc4(x))\n",
        "    x=torch.relu(self.fc5(x))\n",
        "    x=self.fc6(x)\n",
        "    return x\n",
        "net=Neural()"
      ],
      "metadata": {
        "id": "skqjkRlCW5b7"
      },
      "execution_count": null,
      "outputs": []
    },
    {
      "cell_type": "markdown",
      "source": [
        "### Define the loss function and Optimizer"
      ],
      "metadata": {
        "id": "VGWk_TMkYitU"
      }
    },
    {
      "cell_type": "code",
      "source": [
        "criterion=nn.CrossEntropyLoss()\n",
        "optimizer=optim.SGD(net.parameters(),lr=0.01,momentum=0.5)\n"
      ],
      "metadata": {
        "id": "Ka713-vVYiNk"
      },
      "execution_count": null,
      "outputs": []
    },
    {
      "cell_type": "markdown",
      "source": [
        "### Train the model"
      ],
      "metadata": {
        "id": "PT4ffOagzALH"
      }
    },
    {
      "cell_type": "code",
      "source": [
        "num_epochs=10\n",
        "for epoch in range(num_epochs):\n",
        "  for batch_idx,(data,target) in enumerate (train_loader):\n",
        "    optimizer.zero_grad()\n",
        "    output=net(data)\n",
        "    loss =criterion(output,target)\n",
        "    loss.backward()\n",
        "    optimizer.step()\n",
        "    if batch_idx % 100==0:\n",
        "      print('Train Epoch: {} [{}/{} ({:.0f}%)]\\tLoss: {:.6f}'.format(\n",
        "                epoch, batch_idx * len(data), len(train_loader.dataset),\n",
        "                100. * batch_idx / len(train_loader), loss.item()))\n"
      ],
      "metadata": {
        "colab": {
          "base_uri": "https://localhost:8080/"
        },
        "id": "1TSC7eFIX4Jy",
        "outputId": "1f81e3c7-d81e-485e-bc20-eab272cefd5e"
      },
      "execution_count": null,
      "outputs": [
        {
          "output_type": "stream",
          "name": "stdout",
          "text": [
            "Train Epoch: 0 [0/73257 (0%)]\tLoss: 2.303966\n",
            "Train Epoch: 0 [6400/73257 (9%)]\tLoss: 2.301096\n",
            "Train Epoch: 0 [12800/73257 (17%)]\tLoss: 2.269253\n",
            "Train Epoch: 0 [19200/73257 (26%)]\tLoss: 2.265775\n",
            "Train Epoch: 0 [25600/73257 (35%)]\tLoss: 2.236566\n",
            "Train Epoch: 0 [32000/73257 (44%)]\tLoss: 2.242355\n",
            "Train Epoch: 0 [38400/73257 (52%)]\tLoss: 2.219106\n",
            "Train Epoch: 0 [44800/73257 (61%)]\tLoss: 2.255929\n",
            "Train Epoch: 0 [51200/73257 (70%)]\tLoss: 2.210173\n",
            "Train Epoch: 0 [57600/73257 (79%)]\tLoss: 2.222756\n",
            "Train Epoch: 0 [64000/73257 (87%)]\tLoss: 2.248488\n",
            "Train Epoch: 0 [70400/73257 (96%)]\tLoss: 2.236060\n",
            "Train Epoch: 1 [0/73257 (0%)]\tLoss: 2.252377\n",
            "Train Epoch: 1 [6400/73257 (9%)]\tLoss: 2.251258\n",
            "Train Epoch: 1 [12800/73257 (17%)]\tLoss: 2.274751\n",
            "Train Epoch: 1 [19200/73257 (26%)]\tLoss: 2.283753\n",
            "Train Epoch: 1 [25600/73257 (35%)]\tLoss: 2.242861\n",
            "Train Epoch: 1 [32000/73257 (44%)]\tLoss: 2.200370\n",
            "Train Epoch: 1 [38400/73257 (52%)]\tLoss: 2.296392\n",
            "Train Epoch: 1 [44800/73257 (61%)]\tLoss: 2.241007\n",
            "Train Epoch: 1 [51200/73257 (70%)]\tLoss: 2.192878\n",
            "Train Epoch: 1 [57600/73257 (79%)]\tLoss: 2.209718\n",
            "Train Epoch: 1 [64000/73257 (87%)]\tLoss: 2.220645\n",
            "Train Epoch: 1 [70400/73257 (96%)]\tLoss: 2.268289\n",
            "Train Epoch: 2 [0/73257 (0%)]\tLoss: 2.226549\n",
            "Train Epoch: 2 [6400/73257 (9%)]\tLoss: 2.208777\n",
            "Train Epoch: 2 [12800/73257 (17%)]\tLoss: 2.235365\n",
            "Train Epoch: 2 [19200/73257 (26%)]\tLoss: 2.263249\n",
            "Train Epoch: 2 [25600/73257 (35%)]\tLoss: 2.107847\n",
            "Train Epoch: 2 [32000/73257 (44%)]\tLoss: 2.113924\n",
            "Train Epoch: 2 [38400/73257 (52%)]\tLoss: 2.068212\n",
            "Train Epoch: 2 [44800/73257 (61%)]\tLoss: 2.121491\n",
            "Train Epoch: 2 [51200/73257 (70%)]\tLoss: 1.859731\n",
            "Train Epoch: 2 [57600/73257 (79%)]\tLoss: 2.048908\n",
            "Train Epoch: 2 [64000/73257 (87%)]\tLoss: 1.953725\n",
            "Train Epoch: 2 [70400/73257 (96%)]\tLoss: 2.033220\n",
            "Train Epoch: 3 [0/73257 (0%)]\tLoss: 1.751718\n",
            "Train Epoch: 3 [6400/73257 (9%)]\tLoss: 1.831359\n",
            "Train Epoch: 3 [12800/73257 (17%)]\tLoss: 1.923715\n",
            "Train Epoch: 3 [19200/73257 (26%)]\tLoss: 1.747857\n",
            "Train Epoch: 3 [25600/73257 (35%)]\tLoss: 1.744966\n",
            "Train Epoch: 3 [32000/73257 (44%)]\tLoss: 1.692481\n",
            "Train Epoch: 3 [38400/73257 (52%)]\tLoss: 1.594128\n",
            "Train Epoch: 3 [44800/73257 (61%)]\tLoss: 1.744494\n",
            "Train Epoch: 3 [51200/73257 (70%)]\tLoss: 1.754785\n",
            "Train Epoch: 3 [57600/73257 (79%)]\tLoss: 1.714114\n",
            "Train Epoch: 3 [64000/73257 (87%)]\tLoss: 1.959787\n",
            "Train Epoch: 3 [70400/73257 (96%)]\tLoss: 1.410714\n",
            "Train Epoch: 4 [0/73257 (0%)]\tLoss: 1.471777\n",
            "Train Epoch: 4 [6400/73257 (9%)]\tLoss: 1.397707\n",
            "Train Epoch: 4 [12800/73257 (17%)]\tLoss: 1.843253\n",
            "Train Epoch: 4 [19200/73257 (26%)]\tLoss: 1.367794\n",
            "Train Epoch: 4 [25600/73257 (35%)]\tLoss: 1.344510\n",
            "Train Epoch: 4 [32000/73257 (44%)]\tLoss: 1.622111\n",
            "Train Epoch: 4 [38400/73257 (52%)]\tLoss: 1.529756\n",
            "Train Epoch: 4 [44800/73257 (61%)]\tLoss: 1.363732\n",
            "Train Epoch: 4 [51200/73257 (70%)]\tLoss: 1.291366\n",
            "Train Epoch: 4 [57600/73257 (79%)]\tLoss: 1.430508\n",
            "Train Epoch: 4 [64000/73257 (87%)]\tLoss: 1.467782\n",
            "Train Epoch: 4 [70400/73257 (96%)]\tLoss: 1.723555\n",
            "Train Epoch: 5 [0/73257 (0%)]\tLoss: 1.340678\n",
            "Train Epoch: 5 [6400/73257 (9%)]\tLoss: 1.344274\n",
            "Train Epoch: 5 [12800/73257 (17%)]\tLoss: 1.417033\n",
            "Train Epoch: 5 [19200/73257 (26%)]\tLoss: 1.189165\n",
            "Train Epoch: 5 [25600/73257 (35%)]\tLoss: 0.977543\n",
            "Train Epoch: 5 [32000/73257 (44%)]\tLoss: 1.463544\n",
            "Train Epoch: 5 [38400/73257 (52%)]\tLoss: 1.356608\n",
            "Train Epoch: 5 [44800/73257 (61%)]\tLoss: 1.033726\n",
            "Train Epoch: 5 [51200/73257 (70%)]\tLoss: 1.038212\n",
            "Train Epoch: 5 [57600/73257 (79%)]\tLoss: 1.335655\n",
            "Train Epoch: 5 [64000/73257 (87%)]\tLoss: 1.519755\n",
            "Train Epoch: 5 [70400/73257 (96%)]\tLoss: 1.440166\n",
            "Train Epoch: 6 [0/73257 (0%)]\tLoss: 1.153924\n",
            "Train Epoch: 6 [6400/73257 (9%)]\tLoss: 1.108689\n",
            "Train Epoch: 6 [12800/73257 (17%)]\tLoss: 1.138003\n",
            "Train Epoch: 6 [19200/73257 (26%)]\tLoss: 1.111597\n",
            "Train Epoch: 6 [25600/73257 (35%)]\tLoss: 1.258659\n",
            "Train Epoch: 6 [32000/73257 (44%)]\tLoss: 0.980181\n",
            "Train Epoch: 6 [38400/73257 (52%)]\tLoss: 1.267521\n",
            "Train Epoch: 6 [44800/73257 (61%)]\tLoss: 0.958247\n",
            "Train Epoch: 6 [51200/73257 (70%)]\tLoss: 0.997531\n",
            "Train Epoch: 6 [57600/73257 (79%)]\tLoss: 1.056583\n",
            "Train Epoch: 6 [64000/73257 (87%)]\tLoss: 0.684724\n",
            "Train Epoch: 6 [70400/73257 (96%)]\tLoss: 0.931410\n",
            "Train Epoch: 7 [0/73257 (0%)]\tLoss: 0.821068\n",
            "Train Epoch: 7 [6400/73257 (9%)]\tLoss: 1.036206\n",
            "Train Epoch: 7 [12800/73257 (17%)]\tLoss: 1.272598\n",
            "Train Epoch: 7 [19200/73257 (26%)]\tLoss: 0.938387\n",
            "Train Epoch: 7 [25600/73257 (35%)]\tLoss: 0.891122\n",
            "Train Epoch: 7 [32000/73257 (44%)]\tLoss: 0.990514\n",
            "Train Epoch: 7 [38400/73257 (52%)]\tLoss: 0.846239\n",
            "Train Epoch: 7 [44800/73257 (61%)]\tLoss: 1.160230\n",
            "Train Epoch: 7 [51200/73257 (70%)]\tLoss: 1.315242\n",
            "Train Epoch: 7 [57600/73257 (79%)]\tLoss: 0.750116\n",
            "Train Epoch: 7 [64000/73257 (87%)]\tLoss: 1.172247\n",
            "Train Epoch: 7 [70400/73257 (96%)]\tLoss: 0.848268\n",
            "Train Epoch: 8 [0/73257 (0%)]\tLoss: 1.271543\n",
            "Train Epoch: 8 [6400/73257 (9%)]\tLoss: 1.091717\n",
            "Train Epoch: 8 [12800/73257 (17%)]\tLoss: 0.834477\n",
            "Train Epoch: 8 [19200/73257 (26%)]\tLoss: 0.697461\n",
            "Train Epoch: 8 [25600/73257 (35%)]\tLoss: 1.047216\n",
            "Train Epoch: 8 [32000/73257 (44%)]\tLoss: 0.967905\n",
            "Train Epoch: 8 [38400/73257 (52%)]\tLoss: 0.875096\n",
            "Train Epoch: 8 [44800/73257 (61%)]\tLoss: 0.691430\n",
            "Train Epoch: 8 [51200/73257 (70%)]\tLoss: 1.057810\n",
            "Train Epoch: 8 [57600/73257 (79%)]\tLoss: 0.797380\n",
            "Train Epoch: 8 [64000/73257 (87%)]\tLoss: 0.905942\n",
            "Train Epoch: 8 [70400/73257 (96%)]\tLoss: 0.982153\n",
            "Train Epoch: 9 [0/73257 (0%)]\tLoss: 1.005882\n",
            "Train Epoch: 9 [6400/73257 (9%)]\tLoss: 0.912280\n",
            "Train Epoch: 9 [12800/73257 (17%)]\tLoss: 0.894466\n",
            "Train Epoch: 9 [19200/73257 (26%)]\tLoss: 1.017048\n",
            "Train Epoch: 9 [25600/73257 (35%)]\tLoss: 0.702316\n",
            "Train Epoch: 9 [32000/73257 (44%)]\tLoss: 0.863474\n",
            "Train Epoch: 9 [38400/73257 (52%)]\tLoss: 0.996083\n",
            "Train Epoch: 9 [44800/73257 (61%)]\tLoss: 0.940356\n",
            "Train Epoch: 9 [51200/73257 (70%)]\tLoss: 0.791720\n",
            "Train Epoch: 9 [57600/73257 (79%)]\tLoss: 0.703012\n",
            "Train Epoch: 9 [64000/73257 (87%)]\tLoss: 0.682796\n",
            "Train Epoch: 9 [70400/73257 (96%)]\tLoss: 1.003016\n"
          ]
        }
      ]
    },
    {
      "cell_type": "markdown",
      "source": [
        "### Load the test data and test the model"
      ],
      "metadata": {
        "id": "07qN1otrzEZ9"
      }
    },
    {
      "cell_type": "code",
      "source": [
        "test_dataset=datasets.MNIST('data',train=False,download=True,transform=transform)\n",
        "test_loader=torch.utils.data.DataLoader(test_dataset,batch_size=1000,shuffle=True)\n",
        "correct=0\n",
        "total=0\n",
        "with torch.no_grad():\n",
        "  output=net(data)\n",
        "  _,predicted=torch.max(output.data,1)\n",
        "  total+=target.size(0)\n",
        "  correct+=(predicted==target).sum().item()"
      ],
      "metadata": {
        "id": "F2lrmOs_v02B"
      },
      "execution_count": null,
      "outputs": []
    },
    {
      "cell_type": "markdown",
      "source": [
        "### Accuracy"
      ],
      "metadata": {
        "id": "u-3fQYTwzOE6"
      }
    },
    {
      "cell_type": "code",
      "source": [
        "print('Accuracy of the network on the 10000 test images: %d %%' % (\n",
        "    100 * correct / total))"
      ],
      "metadata": {
        "colab": {
          "base_uri": "https://localhost:8080/"
        },
        "id": "dNFAEhL5x2Lg",
        "outputId": "59cb658b-641a-4bb8-ba26-68bc07ac9397"
      },
      "execution_count": null,
      "outputs": [
        {
          "output_type": "stream",
          "name": "stdout",
          "text": [
            "Accuracy of the network on the 10000 test images: 87 %\n"
          ]
        }
      ]
    }
  ]
}