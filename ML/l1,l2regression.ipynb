{
  "nbformat": 4,
  "nbformat_minor": 0,
  "metadata": {
    "colab": {
      "provenance": [],
      "authorship_tag": "ABX9TyPxrF05s0W2CgjmbUPKbnAd",
      "include_colab_link": true
    },
    "kernelspec": {
      "name": "python3",
      "display_name": "Python 3"
    },
    "language_info": {
      "name": "python"
    }
  },
  "cells": [
    {
      "cell_type": "markdown",
      "metadata": {
        "id": "view-in-github",
        "colab_type": "text"
      },
      "source": [
        "<a href=\"https://colab.research.google.com/github/DhushyanthRavichandran/AI/blob/main/ML/l1%2Cl2regression.ipynb\" target=\"_parent\"><img src=\"https://colab.research.google.com/assets/colab-badge.svg\" alt=\"Open In Colab\"/></a>"
      ]
    },
    {
      "cell_type": "code",
      "execution_count": null,
      "metadata": {
        "id": "6pEyJa8e5frd"
      },
      "outputs": [],
      "source": [
        "import numpy as np\n",
        "import matplotlib.pyplot as plt\n"
      ]
    },
    {
      "cell_type": "code",
      "source": [
        "x=np.array([1,2,3,4,5])\n",
        "y=np.array([2.1,3.8,6.5,9.2,11.3])"
      ],
      "metadata": {
        "id": "CstTlxcL-lnL"
      },
      "execution_count": null,
      "outputs": []
    },
    {
      "cell_type": "code",
      "source": [
        "x_b=np.c_[np.ones((x.shape[0],1)),x]\n",
        "x_b"
      ],
      "metadata": {
        "colab": {
          "base_uri": "https://localhost:8080/"
        },
        "id": "7f2c-yyx---M",
        "outputId": "9c973e26-ce93-42f5-b00c-db4e498fc795"
      },
      "execution_count": null,
      "outputs": [
        {
          "output_type": "execute_result",
          "data": {
            "text/plain": [
              "array([[1., 1.],\n",
              "       [1., 2.],\n",
              "       [1., 3.],\n",
              "       [1., 4.],\n",
              "       [1., 5.]])"
            ]
          },
          "metadata": {},
          "execution_count": 6
        }
      ]
    },
    {
      "cell_type": "code",
      "source": [
        "alpha_ridge=1.0\n",
        "alpha_lasso=0.1\n",
        "num_iternation=1000\n",
        "learning_rate=0.01"
      ],
      "metadata": {
        "id": "R3BD0DP1_n_0"
      },
      "execution_count": null,
      "outputs": []
    },
    {
      "cell_type": "code",
      "source": [
        "def lasso_regression(x,y,alpha,num_iternation,learning_rate):\n",
        "  m,n=x.shape\n",
        "  theta=np.zeros(n)\n",
        "  for i in range(num_iternation):\n",
        "    y_pred=x.dot(theta)\n",
        "    gradient=(x.T.dot(y_pred-y)+alpha*np.sign(theta))/m\n",
        "    theta-=learning_rate*gradient\n",
        "  return theta\n"
      ],
      "metadata": {
        "id": "KwTm_x5k_8SU"
      },
      "execution_count": null,
      "outputs": []
    },
    {
      "cell_type": "code",
      "source": [
        "def ridge_regression(x,y,alpha,num_iternation,learning_rate):\n",
        "  m,n=x.shape\n",
        "  theta=np.zeros(n)\n",
        "  for i in range(num_iternation):\n",
        "    y_pred=x.dot(theta)\n",
        "    gradient=(x.T.dot(y_pred-y)+alpha*theta)/m\n",
        "    theta-=learning_rate*gradient\n",
        "  return theta"
      ],
      "metadata": {
        "id": "PWxwrNj6B0gv"
      },
      "execution_count": null,
      "outputs": []
    },
    {
      "cell_type": "code",
      "source": [
        "'''dimentionality deduction na ridge\n",
        "error deduction na lasso"
      ],
      "metadata": {
        "id": "wz6N5yBmC6jO"
      },
      "execution_count": null,
      "outputs": []
    },
    {
      "cell_type": "code",
      "source": [
        "ta_ridge=ridge_regression(x_b,y,alpha_ridge,num_iternation,learning_rate)\n",
        "ta_lasso=ridge_regression(x_b,y,alpha_lasso,num_iternation,learning_rate)"
      ],
      "metadata": {
        "id": "-60BM0VtDF0x"
      },
      "execution_count": null,
      "outputs": []
    },
    {
      "cell_type": "code",
      "source": [
        "ta_ridge"
      ],
      "metadata": {
        "colab": {
          "base_uri": "https://localhost:8080/"
        },
        "id": "mn5JGyT2Dp5o",
        "outputId": "765f50b1-d477-42fc-9ef1-d800a598eadc"
      },
      "execution_count": null,
      "outputs": [
        {
          "output_type": "execute_result",
          "data": {
            "text/plain": [
              "array([0.05700254, 2.17211411])"
            ]
          },
          "metadata": {},
          "execution_count": 13
        }
      ]
    },
    {
      "cell_type": "code",
      "source": [
        "ta_lasso"
      ],
      "metadata": {
        "colab": {
          "base_uri": "https://localhost:8080/"
        },
        "id": "JIyrYqJODzuq",
        "outputId": "6b65a477-0cbb-4c0e-953a-9d2ac0f7e234"
      },
      "execution_count": null,
      "outputs": [
        {
          "output_type": "execute_result",
          "data": {
            "text/plain": [
              "array([-0.28854985,  2.30105788])"
            ]
          },
          "metadata": {},
          "execution_count": 14
        }
      ]
    },
    {
      "cell_type": "code",
      "source": [
        "plt.scatter(x,y,label='data')"
      ],
      "metadata": {
        "colab": {
          "base_uri": "https://localhost:8080/",
          "height": 447
        },
        "id": "NXbSLaR7EI38",
        "outputId": "9c15be7b-ed51-42a3-e866-0ba19fe6e517"
      },
      "execution_count": null,
      "outputs": [
        {
          "output_type": "execute_result",
          "data": {
            "text/plain": [
              "<matplotlib.collections.PathCollection at 0x79cc11e78ac0>"
            ]
          },
          "metadata": {},
          "execution_count": 15
        },
        {
          "output_type": "display_data",
          "data": {
            "text/plain": [
              "<Figure size 640x480 with 1 Axes>"
            ],
            "image/png": "[encoded data removed]"
          },
          "metadata": {}
        }
      ]
    },
    {
      "cell_type": "code",
      "source": [
        "plt.scatter(x,y,label='data')\n",
        "plt.plot(x,x_b.dot(ta_ridge),label=f'ridge(l2Regression)',color='blue')\n",
        "plt.plot(x,x_b.dot(ta_lasso),label=f'lasso(l1Regression)',color='red')\n",
        "plt.xlabel('x')\n",
        "plt.ylabel('y')\n",
        "\n",
        "plt.legend()\n",
        "plt.plot()"
      ],
      "metadata": {
        "colab": {
          "base_uri": "https://localhost:8080/",
          "height": 466
        },
        "id": "JOWn2tvLER9Y",
        "outputId": "10a9eccb-bde1-4df7-8291-36ab3f76c11c"
      },
      "execution_count": null,
      "outputs": [
        {
          "output_type": "execute_result",
          "data": {
            "text/plain": [
              "[]"
            ]
          },
          "metadata": {},
          "execution_count": 25
        },
        {
          "output_type": "display_data",
          "data": {
            "text/plain": [
              "<Figure size 640x480 with 1 Axes>"
            ],
            "image/png": "[encoded data removed]"
          },
          "metadata": {}
        }
      ]
    }
  ]
}