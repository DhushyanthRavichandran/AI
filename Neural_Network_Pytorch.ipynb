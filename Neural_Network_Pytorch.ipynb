{
  "nbformat": 4,
  "nbformat_minor": 0,
  "metadata": {
    "colab": {
      "provenance": [],
      "include_colab_link": true
    },
    "kernelspec": {
      "name": "python3",
      "display_name": "Python 3"
    },
    "language_info": {
      "name": "python"
    },
    "accelerator": "TPU"
  },
  "cells": [
    {
      "cell_type": "markdown",
      "metadata": {
        "id": "view-in-github",
        "colab_type": "text"
      },
      "source": [
        "<a href=\"https://colab.research.google.com/github/DhushyanthRavichandran/AI/blob/DL/Neural_Network_Pytorch.ipynb\" target=\"_parent\"><img src=\"https://colab.research.google.com/assets/colab-badge.svg\" alt=\"Open In Colab\"/></a>"
      ]
    },
    {
      "cell_type": "markdown",
      "source": [
        "# *A simple neural network in PyTorch*"
      ],
      "metadata": {
        "id": "OIqYTw0IDCXR"
      }
    },
    {
      "cell_type": "markdown",
      "source": [
        "### Install Pytorch -https://pytorch.org/"
      ],
      "metadata": {
        "id": "pAFOzmiVDOYR"
      }
    },
    {
      "cell_type": "code",
      "source": [
        "#Import Pytorch\n",
        "import torch\n",
        "import torchvision.datasets as datasets\n",
        "import torchvision.transforms as transforms\n",
        "import torch.nn as nn\n",
        "import torch.optim as optim"
      ],
      "metadata": {
        "id": "t8hOi-DxDNbq"
      },
      "execution_count": 64,
      "outputs": []
    },
    {
      "cell_type": "markdown",
      "source": [
        "### Load and prepare the training data"
      ],
      "metadata": {
        "id": "-yr_BWuuMkgC"
      }
    },
    {
      "cell_type": "code",
      "source": [
        "transform=transforms.Compose([transforms.ToTensor(),\n",
        "                              transforms.Normalize((0.1307,),(0.3081,))])\n",
        "train_dataset=datasets.SVHN('data',split='train',download=True,transform=transform)\n",
        "train_loader=torch.utils.data.DataLoader(train_dataset,batch_size=64,shuffle=True)\n"
      ],
      "metadata": {
        "id": "4UHREwhWSEwx",
        "colab": {
          "base_uri": "https://localhost:8080/"
        },
        "outputId": "2a7bed6e-f16e-4829-8fb9-7b088fa5ba1e"
      },
      "execution_count": 65,
      "outputs": [
        {
          "output_type": "stream",
          "name": "stdout",
          "text": [
            "Using downloaded and verified file: data/train_32x32.mat\n"
          ]
        }
      ]
    },
    {
      "cell_type": "markdown",
      "source": [
        "### Define the model"
      ],
      "metadata": {
        "id": "kxNShGWFWwnH"
      }
    },
    {
      "cell_type": "code",
      "source": [
        "class Neural(nn.Module):\n",
        "  def __init__(self):\n",
        "    super(Neural,self).__init__()\n",
        "    self.fc1=nn.Linear(3*32*32,256)\n",
        "    self.fc2=nn.Linear(256,128)\n",
        "    self.fc3=nn.Linear(128,64)\n",
        "    self.fc4=nn.Linear(64,32)\n",
        "    self.fc5=nn.Linear(32,16)\n",
        "    self.fc6=nn.Linear(16,10)\n",
        "\n",
        "  def forward(self,x):\n",
        "    x=x.view(-1,3*32*32)\n",
        "    x=torch.relu(self.fc1(x))\n",
        "    x=torch.relu(self.fc2(x))\n",
        "    x=torch.relu(self.fc3(x))\n",
        "    x=torch.relu(self.fc4(x))\n",
        "    x=torch.relu(self.fc5(x))\n",
        "    x=self.fc6(x)\n",
        "    return x\n",
        "net=Neural()"
      ],
      "metadata": {
        "id": "skqjkRlCW5b7"
      },
      "execution_count": 66,
      "outputs": []
    },
    {
      "cell_type": "markdown",
      "source": [
        "### Define the loss function and Optimizer"
      ],
      "metadata": {
        "id": "VGWk_TMkYitU"
      }
    },
    {
      "cell_type": "code",
      "source": [
        "criterion=nn.CrossEntropyLoss()\n",
        "optimizer=optim.SGD(net.parameters(),lr=0.01,momentum=0.5)\n"
      ],
      "metadata": {
        "id": "Ka713-vVYiNk"
      },
      "execution_count": 67,
      "outputs": []
    },
    {
      "cell_type": "markdown",
      "source": [
        "### Train the model"
      ],
      "metadata": {
        "id": "PT4ffOagzALH"
      }
    },
    {
      "cell_type": "code",
      "source": [
        "num_epochs=10\n",
        "for epoch in range(num_epochs):\n",
        "  for batch_idx,(data,target) in enumerate (train_loader):\n",
        "    optimizer.zero_grad()\n",
        "    output=net(data)\n",
        "    loss =criterion(output,target)\n",
        "    loss.backward()\n",
        "    optimizer.step()\n",
        "    if batch_idx % 100==0:\n",
        "      print('Train Epoch: {} [{}/{} ({:.0f}%)]\\tLoss: {:.6f}'.format(\n",
        "                epoch, batch_idx * len(data), len(train_loader.dataset),\n",
        "                100. * batch_idx / len(train_loader), loss.item()))\n"
      ],
      "metadata": {
        "colab": {
          "base_uri": "https://localhost:8080/"
        },
        "id": "1TSC7eFIX4Jy",
        "outputId": "1f81e3c7-d81e-485e-bc20-eab272cefd5e"
      },
      "execution_count": null,
      "outputs": [
        {
          "output_type": "stream",
          "name": "stdout",
          "text": [
            "Train Epoch: 0 [0/73257 (0%)]\tLoss: 2.303966\n",
            "Train Epoch: 0 [6400/73257 (9%)]\tLoss: 2.301096\n",
            "Train Epoch: 0 [12800/73257 (17%)]\tLoss: 2.269253\n",
            "Train Epoch: 0 [19200/73257 (26%)]\tLoss: 2.265775\n",
            "Train Epoch: 0 [25600/73257 (35%)]\tLoss: 2.236566\n",
            "Train Epoch: 0 [32000/73257 (44%)]\tLoss: 2.242355\n",
            "Train Epoch: 0 [38400/73257 (52%)]\tLoss: 2.219106\n",
            "Train Epoch: 0 [44800/73257 (61%)]\tLoss: 2.255929\n",
            "Train Epoch: 0 [51200/73257 (70%)]\tLoss: 2.210173\n",
            "Train Epoch: 0 [57600/73257 (79%)]\tLoss: 2.222756\n",
            "Train Epoch: 0 [64000/73257 (87%)]\tLoss: 2.248488\n",
            "Train Epoch: 0 [70400/73257 (96%)]\tLoss: 2.236060\n",
            "Train Epoch: 1 [0/73257 (0%)]\tLoss: 2.252377\n",
            "Train Epoch: 1 [6400/73257 (9%)]\tLoss: 2.251258\n",
            "Train Epoch: 1 [12800/73257 (17%)]\tLoss: 2.274751\n",
            "Train Epoch: 1 [19200/73257 (26%)]\tLoss: 2.283753\n",
            "Train Epoch: 1 [25600/73257 (35%)]\tLoss: 2.242861\n",
            "Train Epoch: 1 [32000/73257 (44%)]\tLoss: 2.200370\n",
            "Train Epoch: 1 [38400/73257 (52%)]\tLoss: 2.296392\n",
            "Train Epoch: 1 [44800/73257 (61%)]\tLoss: 2.241007\n",
            "Train Epoch: 1 [51200/73257 (70%)]\tLoss: 2.192878\n",
            "Train Epoch: 1 [57600/73257 (79%)]\tLoss: 2.209718\n",
            "Train Epoch: 1 [64000/73257 (87%)]\tLoss: 2.220645\n",
            "Train Epoch: 1 [70400/73257 (96%)]\tLoss: 2.268289\n",
            "Train Epoch: 2 [0/73257 (0%)]\tLoss: 2.226549\n",
            "Train Epoch: 2 [6400/73257 (9%)]\tLoss: 2.208777\n",
            "Train Epoch: 2 [12800/73257 (17%)]\tLoss: 2.235365\n",
            "Train Epoch: 2 [19200/73257 (26%)]\tLoss: 2.263249\n",
            "Train Epoch: 2 [25600/73257 (35%)]\tLoss: 2.107847\n",
            "Train Epoch: 2 [32000/73257 (44%)]\tLoss: 2.113924\n",
            "Train Epoch: 2 [38400/73257 (52%)]\tLoss: 2.068212\n",
            "Train Epoch: 2 [44800/73257 (61%)]\tLoss: 2.121491\n",
            "Train Epoch: 2 [51200/73257 (70%)]\tLoss: 1.859731\n",
            "Train Epoch: 2 [57600/73257 (79%)]\tLoss: 2.048908\n",
            "Train Epoch: 2 [64000/73257 (87%)]\tLoss: 1.953725\n",
            "Train Epoch: 2 [70400/73257 (96%)]\tLoss: 2.033220\n",
            "Train Epoch: 3 [0/73257 (0%)]\tLoss: 1.751718\n",
            "Train Epoch: 3 [6400/73257 (9%)]\tLoss: 1.831359\n",
            "Train Epoch: 3 [12800/73257 (17%)]\tLoss: 1.923715\n",
            "Train Epoch: 3 [19200/73257 (26%)]\tLoss: 1.747857\n",
            "Train Epoch: 3 [25600/73257 (35%)]\tLoss: 1.744966\n",
            "Train Epoch: 3 [32000/73257 (44%)]\tLoss: 1.692481\n",
            "Train Epoch: 3 [38400/73257 (52%)]\tLoss: 1.594128\n",
            "Train Epoch: 3 [44800/73257 (61%)]\tLoss: 1.744494\n",
            "Train Epoch: 3 [51200/73257 (70%)]\tLoss: 1.754785\n",
            "Train Epoch: 3 [57600/73257 (79%)]\tLoss: 1.714114\n",
            "Train Epoch: 3 [64000/73257 (87%)]\tLoss: 1.959787\n",
            "Train Epoch: 3 [70400/73257 (96%)]\tLoss: 1.410714\n",
            "Train Epoch: 4 [0/73257 (0%)]\tLoss: 1.471777\n",
            "Train Epoch: 4 [6400/73257 (9%)]\tLoss: 1.397707\n"
          ]
        }
      ]
    },
    {
      "cell_type": "markdown",
      "source": [
        "### Load the test data and test the model"
      ],
      "metadata": {
        "id": "07qN1otrzEZ9"
      }
    },
    {
      "cell_type": "code",
      "source": [
        "test_dataset=datasets.MNIST('data',train=False,download=True,transform=transform)\n",
        "test_loader=torch.utils.data.DataLoader(test_dataset,batch_size=1000,shuffle=True)\n",
        "correct=0\n",
        "total=0\n",
        "with torch.no_grad():\n",
        "  output=net(data)\n",
        "  _,predicted=torch.max(output.data,1)\n",
        "  total+=target.size(0)\n",
        "  correct+=(predicted==target).sum().item()"
      ],
      "metadata": {
        "id": "F2lrmOs_v02B"
      },
      "execution_count": null,
      "outputs": []
    },
    {
      "cell_type": "markdown",
      "source": [
        "### Accuracy"
      ],
      "metadata": {
        "id": "u-3fQYTwzOE6"
      }
    },
    {
      "cell_type": "code",
      "source": [
        "print('Accuracy of the network on the 10000 test images: %d %%' % (\n",
        "    100 * correct / total))"
      ],
      "metadata": {
        "id": "dNFAEhL5x2Lg"
      },
      "execution_count": null,
      "outputs": []
    }
  ]
}