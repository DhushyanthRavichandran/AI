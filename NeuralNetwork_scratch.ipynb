{
  "nbformat": 4,
  "nbformat_minor": 0,
  "metadata": {
    "colab": {
      "provenance": [],
      "authorship_tag": "ABX9TyON46MF/JoZOTWJutWFGc7+",
      "include_colab_link": true
    },
    "kernelspec": {
      "name": "python3",
      "display_name": "Python 3"
    },
    "language_info": {
      "name": "python"
    }
  },
  "cells": [
    {
      "cell_type": "markdown",
      "metadata": {
        "id": "view-in-github",
        "colab_type": "text"
      },
      "source": [
        "<a href=\"https://colab.research.google.com/github/DhushyanthRavichandran/AI/blob/main/NeuralNetwork_scratch.ipynb\" target=\"_parent\"><img src=\"https://colab.research.google.com/assets/colab-badge.svg\" alt=\"Open In Colab\"/></a>"
      ]
    },
    {
      "cell_type": "code",
      "execution_count": 40,
      "metadata": {
        "id": "hw1Lr0yCR4Gf"
      },
      "outputs": [],
      "source": [
        "import numpy as np\n",
        "import pandas as pd"
      ]
    },
    {
      "cell_type": "code",
      "source": [
        "x=np.array([[1,0,1,0],[1,0,1,1],[0,1,0,1]])\n",
        "x"
      ],
      "metadata": {
        "colab": {
          "base_uri": "https://localhost:8080/"
        },
        "id": "UnCvWnvXShBd",
        "outputId": "23e7d9fd-9567-4b2d-abc5-b019ff1eb8ef"
      },
      "execution_count": 41,
      "outputs": [
        {
          "output_type": "execute_result",
          "data": {
            "text/plain": [
              "array([[1, 0, 1, 0],\n",
              "       [1, 0, 1, 1],\n",
              "       [0, 1, 0, 1]])"
            ]
          },
          "metadata": {},
          "execution_count": 41
        }
      ]
    },
    {
      "cell_type": "code",
      "source": [
        "y=np.array([[1],[0],[1]])"
      ],
      "metadata": {
        "id": "tHHpzF-PS8Xb"
      },
      "execution_count": 42,
      "outputs": []
    },
    {
      "cell_type": "code",
      "source": [
        "def sigmoid(x):\n",
        "  return 1/(1+np.exp(-x))\n",
        ""
      ],
      "metadata": {
        "id": "39NAO6uaTWXT"
      },
      "execution_count": 43,
      "outputs": []
    },
    {
      "cell_type": "code",
      "source": [
        "\n",
        "def derivative_sigmoid(x):\n",
        "  return x*(1-x)\n"
      ],
      "metadata": {
        "id": "8GEXE0z1Twef"
      },
      "execution_count": 44,
      "outputs": []
    },
    {
      "cell_type": "code",
      "source": [
        "\n",
        "epoch=5000\n",
        "lr=0.1\n",
        "input_neurons=x.shape[1]\n",
        "hidden_neurons=3\n",
        "output_neurons=1"
      ],
      "metadata": {
        "id": "lSlsKkXjT-zc"
      },
      "execution_count": 45,
      "outputs": []
    },
    {
      "cell_type": "code",
      "source": [
        "\n",
        "wh=np.random.uniform(size=(input_neurons,hidden_neurons))\n",
        "bh=np.random.uniform(size=(1,hidden_neurons))\n",
        "wo=np.random.uniform(size=(hidden_neurons,output_neurons))\n",
        "bo=np.random.uniform(size=(1,output_neurons))\n"
      ],
      "metadata": {
        "id": "xuqoWzsxU6ES"
      },
      "execution_count": 46,
      "outputs": []
    },
    {
      "cell_type": "code",
      "source": [
        "\n",
        "for i in range(epoch):\n",
        "  #forward\n",
        "  hidden_input=np.dot(x,wh)\n",
        "  hidden_input=hidden_input+bh\n",
        "  hidden_activation=sigmoid(hidden_input)\n",
        "  output_layer=np.dot(hidden_activation,wo)\n",
        "  output=sigmoid(output_layer)\n",
        "  #backward\n",
        "  E=y-output\n",
        "  slope_output=derivative_sigmoid(output)\n",
        "  slope_hidden=derivative_sigmoid(hidden_activation)\n",
        "  d_output=E*slope_output\n",
        "  error_hidden=d_output.dot(wo.T)\n",
        "  d_hidden=error_hidden*slope_hidden\n",
        "  wo+=hidden_activation.T.dot(d_output)*lr\n",
        "  bo+=np.sum(d_output,axis=0,keepdims=True)*lr\n",
        "  wh+=x.T.dot(d_hidden)*lr\n",
        "  bh+=np.sum(d_hidden,axis=0,keepdims=True)*lr"
      ],
      "metadata": {
        "id": "rDP06IikWogF"
      },
      "execution_count": 47,
      "outputs": []
    },
    {
      "cell_type": "code",
      "source": [
        "\n",
        "output\n",
        ""
      ],
      "metadata": {
        "colab": {
          "base_uri": "https://localhost:8080/"
        },
        "id": "k0vgBNHsZeEm",
        "outputId": "1f45f053-572b-491c-e8f1-baada4073588"
      },
      "execution_count": 48,
      "outputs": [
        {
          "output_type": "execute_result",
          "data": {
            "text/plain": [
              "array([[0.9563602 ],\n",
              "       [0.04841994],\n",
              "       [0.97173732]])"
            ]
          },
          "metadata": {},
          "execution_count": 48
        }
      ]
    }
  ]
}